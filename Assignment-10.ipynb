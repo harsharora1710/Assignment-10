{
 "cells": [
  {
   "cell_type": "code",
   "execution_count": 1,
   "id": "40dfb989-54c5-4f93-ab7b-6215b03b92c6",
   "metadata": {},
   "outputs": [],
   "source": [
    "#q1)\n",
    "#Multithreading in Python refers to the ability of a program to execute multiple threads concurrently within a single process.\n",
    "#Multithreading is commonly used in scenarios where there are computationally intensive tasks, I/O-bound operations, \n",
    "#or situations where responsiveness and real-time processing are required\n",
    "#In Python, the threading module is used to handle threads.\n"
   ]
  },
  {
   "cell_type": "code",
   "execution_count": 2,
   "id": "001d1b6c-0230-4f41-8657-1db53b9ea225",
   "metadata": {},
   "outputs": [],
   "source": [
    "#q2)\n",
    "#The threading module in Python is used to handle threads and provides a high-level interface for creating and managing threads in a Python program. \n",
    "\n",
    "#activeCount(): This function returns the number of Thread objects currently alive\n",
    "\n",
    "#currentThread(): This function returns the current Thread object, corresponding to the caller's thread of execution\n",
    "\n",
    "#enumerate(): This function returns a list of all Thread objects currently alive"
   ]
  },
  {
   "cell_type": "code",
   "execution_count": 3,
   "id": "b9245cf8-29b7-474f-a18f-701225deaa28",
   "metadata": {},
   "outputs": [],
   "source": [
    "#q3)\n",
    "#run(): The run() method is the entry point for the thread's activity. It is called when the start() method is invoked on a Thread object.\n",
    "#start(): The start() method is used to start a thread's activity. It initiates the thread's execution by calling the run() method in a separate thread of control\n",
    "#join(): The join() method is used to wait for a thread to complete its execution\n",
    "#isAlive(): The isAlive() method is used to check whether a thread is currently executing or alive\n"
   ]
  },
  {
   "cell_type": "code",
   "execution_count": 5,
   "id": "6a986c23-91a1-44f4-83e6-2ee831491373",
   "metadata": {},
   "outputs": [
    {
     "name": "stdout",
     "output_type": "stream",
     "text": [
      "0\n",
      "1\n",
      "4\n",
      "9\n",
      "16\n",
      "25\n",
      "36\n",
      "49\n",
      "64\n",
      "81\n",
      "0\n",
      "1\n",
      "8\n",
      "27\n",
      "64\n",
      "125\n",
      "216\n",
      "343\n",
      "512\n",
      "729\n"
     ]
    }
   ],
   "source": [
    "#q4)\n",
    "def func():\n",
    "    for i in range(10):\n",
    "        print(i*i)\n",
    "def func2():\n",
    "    for i in range(10):\n",
    "        print(i*i*i)\n",
    "import threading\n",
    "t1=threading.Thread(target=func)\n",
    "t2=threading.Thread(target=func2)\n",
    "\n",
    "t1.start()\n",
    "t2.start()\n",
    "\n",
    "t1.join()\n",
    "t2.join()"
   ]
  },
  {
   "cell_type": "code",
   "execution_count": null,
   "id": "99d24c7b-2186-44f0-8101-d5b13b28c91b",
   "metadata": {},
   "outputs": [],
   "source": []
  }
 ],
 "metadata": {
  "kernelspec": {
   "display_name": "Python 3 (ipykernel)",
   "language": "python",
   "name": "python3"
  },
  "language_info": {
   "codemirror_mode": {
    "name": "ipython",
    "version": 3
   },
   "file_extension": ".py",
   "mimetype": "text/x-python",
   "name": "python",
   "nbconvert_exporter": "python",
   "pygments_lexer": "ipython3",
   "version": "3.10.8"
  }
 },
 "nbformat": 4,
 "nbformat_minor": 5
}
